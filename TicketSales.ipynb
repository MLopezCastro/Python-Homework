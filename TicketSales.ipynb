{
 "cells": [
  {
   "cell_type": "code",
   "execution_count": 1,
   "metadata": {},
   "outputs": [
    {
     "name": "stdout",
     "output_type": "stream",
     "text": [
      "Requirement already satisfied: pyodbc in c:\\users\\mlope\\appdata\\local\\programs\\python\\python312\\lib\\site-packages (5.1.0)\n",
      "Requirement already satisfied: pandas in c:\\users\\mlope\\appdata\\local\\programs\\python\\python312\\lib\\site-packages (2.2.2)\n",
      "Requirement already satisfied: numpy>=1.26.0 in c:\\users\\mlope\\appdata\\local\\programs\\python\\python312\\lib\\site-packages (from pandas) (2.0.0)\n",
      "Requirement already satisfied: python-dateutil>=2.8.2 in c:\\users\\mlope\\appdata\\roaming\\python\\python312\\site-packages (from pandas) (2.9.0.post0)\n",
      "Requirement already satisfied: pytz>=2020.1 in c:\\users\\mlope\\appdata\\local\\programs\\python\\python312\\lib\\site-packages (from pandas) (2024.1)\n",
      "Requirement already satisfied: tzdata>=2022.7 in c:\\users\\mlope\\appdata\\local\\programs\\python\\python312\\lib\\site-packages (from pandas) (2024.1)\n",
      "Requirement already satisfied: six>=1.5 in c:\\users\\mlope\\appdata\\roaming\\python\\python312\\site-packages (from python-dateutil>=2.8.2->pandas) (1.16.0)\n",
      "Note: you may need to restart the kernel to use updated packages.\n"
     ]
    },
    {
     "name": "stderr",
     "output_type": "stream",
     "text": [
      "\n",
      "[notice] A new release of pip is available: 24.0 -> 24.2\n",
      "[notice] To update, run: python.exe -m pip install --upgrade pip\n"
     ]
    }
   ],
   "source": [
    "pip install pyodbc pandas"
   ]
  },
  {
   "cell_type": "code",
   "execution_count": 2,
   "metadata": {},
   "outputs": [
    {
     "name": "stdout",
     "output_type": "stream",
     "text": [
      "Connection successful!\n"
     ]
    }
   ],
   "source": [
    "import pyodbc\n",
    "\n",
    "# Define connection parameters\n",
    "server = 'DESKTOP-UFKKV4B\\\\SQLEXPRESS'  # Use the server name from your screenshot\n",
    "database = 'TicketSalesDB'              # Replace this with your actual database name\n",
    "\n",
    "# Establish connection\n",
    "conn = pyodbc.connect(\n",
    "    f\"DRIVER={{ODBC Driver 17 for SQL Server}};\"\n",
    "    f\"SERVER={server};\"\n",
    "    f\"DATABASE={database};\"\n",
    "    \"Trusted_Connection=yes;\"\n",
    ")\n",
    "\n",
    "# Test connection by printing a message\n",
    "print(\"Connection successful!\")\n"
   ]
  },
  {
   "cell_type": "code",
   "execution_count": 4,
   "metadata": {},
   "outputs": [],
   "source": [
    "import pyodbc\n",
    "import pandas as pd  # Add this line to import pandas"
   ]
  },
  {
   "cell_type": "code",
   "execution_count": 5,
   "metadata": {},
   "outputs": [
    {
     "name": "stdout",
     "output_type": "stream",
     "text": [
      "   event_id    event_name     location  sales_date  ticket_price  tickets_sold\n",
      "0         1     Rock Fest      Chicago  2024-10-01         150.0           200\n",
      "1         2    Jazz Night     New York  2024-10-02          80.0           150\n",
      "2         3     Rock Fest      Chicago  2024-10-03         150.0           220\n",
      "3         4  EDM Festival  Los Angeles  2024-10-04         120.0           300\n"
     ]
    },
    {
     "name": "stderr",
     "output_type": "stream",
     "text": [
      "C:\\Users\\mlope\\AppData\\Local\\Temp\\ipykernel_1352\\1592192590.py:5: UserWarning: pandas only supports SQLAlchemy connectable (engine/connection) or database string URI or sqlite3 DBAPI2 connection. Other DBAPI2 objects are not tested. Please consider using SQLAlchemy.\n",
      "  df = pd.read_sql(query, conn)\n"
     ]
    }
   ],
   "source": [
    "# Query to retrieve data\n",
    "query = \"SELECT * FROM events\"\n",
    "\n",
    "# Load data into a DataFrame\n",
    "df = pd.read_sql(query, conn)\n",
    "\n",
    "# Display the first few rows\n",
    "print(df.head())\n"
   ]
  },
  {
   "cell_type": "markdown",
   "metadata": {},
   "source": [
    "Example 1: Calculate Total Revenue per Event"
   ]
  },
  {
   "cell_type": "code",
   "execution_count": 6,
   "metadata": {},
   "outputs": [
    {
     "name": "stdout",
     "output_type": "stream",
     "text": [
      "     event_name  total_revenue\n",
      "0  EDM Festival        36000.0\n",
      "1    Jazz Night        12000.0\n",
      "2     Rock Fest        63000.0\n"
     ]
    }
   ],
   "source": [
    "df['total_revenue'] = df['ticket_price'] * df['tickets_sold']\n",
    "event_revenue = df.groupby('event_name')['total_revenue'].sum().reset_index()\n",
    "print(event_revenue)\n"
   ]
  },
  {
   "cell_type": "markdown",
   "metadata": {},
   "source": [
    "Example 2: Plot Total Tickets Sold by Location\n",
    "You can use matplotlib or seaborn for visualization:"
   ]
  },
  {
   "cell_type": "code",
   "execution_count": 7,
   "metadata": {},
   "outputs": [
    {
     "data": {
      "image/png": "[encoded data removed]",
      "text/plain": [
       "<Figure size 640x480 with 1 Axes>"
      ]
     },
     "metadata": {},
     "output_type": "display_data"
    }
   ],
   "source": [
    "import matplotlib.pyplot as plt\n",
    "import seaborn as sns\n",
    "\n",
    "location_sales = df.groupby('location')['tickets_sold'].sum().reset_index()\n",
    "\n",
    "# Plot\n",
    "sns.barplot(x='location', y='tickets_sold', data=location_sales)\n",
    "plt.title('Total Tickets Sold by Location')\n",
    "plt.show()\n"
   ]
  },
  {
   "cell_type": "markdown",
   "metadata": {},
   "source": [
    "Example 3: Predictive Modeling (Optional)"
   ]
  },
  {
   "cell_type": "markdown",
   "metadata": {},
   "source": [
    "If you’re interested in predictive modeling, you can use scikit-learn to build a simple model to predict tickets sold based on ticket price. Here’s an example of a linear regression model:"
   ]
  },
  {
   "cell_type": "code",
   "execution_count": 9,
   "metadata": {},
   "outputs": [
    {
     "name": "stdout",
     "output_type": "stream",
     "text": [
      "Collecting scikit-learn\n",
      "  Downloading scikit_learn-1.5.2-cp312-cp312-win_amd64.whl.metadata (13 kB)\n",
      "Requirement already satisfied: numpy>=1.19.5 in c:\\users\\mlope\\appdata\\local\\programs\\python\\python312\\lib\\site-packages (from scikit-learn) (2.0.0)\n",
      "Requirement already satisfied: scipy>=1.6.0 in c:\\users\\mlope\\appdata\\local\\programs\\python\\python312\\lib\\site-packages (from scikit-learn) (1.14.0)\n",
      "Collecting joblib>=1.2.0 (from scikit-learn)\n",
      "  Downloading joblib-1.4.2-py3-none-any.whl.metadata (5.4 kB)\n",
      "Collecting threadpoolctl>=3.1.0 (from scikit-learn)\n",
      "  Downloading threadpoolctl-3.5.0-py3-none-any.whl.metadata (13 kB)\n",
      "Downloading scikit_learn-1.5.2-cp312-cp312-win_amd64.whl (11.0 MB)\n",
      "   ---------------------------------------- 0.0/11.0 MB ? eta -:--:--\n",
      "   - -------------------------------------- 0.3/11.0 MB 6.5 MB/s eta 0:00:02\n",
      "   --- ------------------------------------ 0.9/11.0 MB 9.9 MB/s eta 0:00:02\n",
      "   ----- ---------------------------------- 1.6/11.0 MB 11.0 MB/s eta 0:00:01\n",
      "   ------- -------------------------------- 2.2/11.0 MB 11.5 MB/s eta 0:00:01\n",
      "   ---------- ----------------------------- 2.8/11.0 MB 11.8 MB/s eta 0:00:01\n",
      "   ------------ --------------------------- 3.4/11.0 MB 12.1 MB/s eta 0:00:01\n",
      "   -------------- ------------------------- 4.0/11.0 MB 12.2 MB/s eta 0:00:01\n",
      "   ---------------- ----------------------- 4.6/11.0 MB 12.2 MB/s eta 0:00:01\n",
      "   ------------------ --------------------- 5.2/11.0 MB 12.3 MB/s eta 0:00:01\n",
      "   --------------------- ------------------ 5.8/11.0 MB 12.4 MB/s eta 0:00:01\n",
      "   ----------------------- ---------------- 6.4/11.0 MB 12.8 MB/s eta 0:00:01\n",
      "   ------------------------- -------------- 7.0/11.0 MB 12.8 MB/s eta 0:00:01\n",
      "   --------------------------- ------------ 7.6/11.0 MB 12.8 MB/s eta 0:00:01\n",
      "   ----------------------------- ---------- 8.2/11.0 MB 12.8 MB/s eta 0:00:01\n",
      "   -------------------------------- ------- 8.8/11.0 MB 12.8 MB/s eta 0:00:01\n",
      "   ---------------------------------- ----- 9.5/11.0 MB 12.6 MB/s eta 0:00:01\n",
      "   ------------------------------------ --- 10.1/11.0 MB 12.7 MB/s eta 0:00:01\n",
      "   ---------------------------------------  10.7/11.0 MB 13.1 MB/s eta 0:00:01\n",
      "   ---------------------------------------  11.0/11.0 MB 13.1 MB/s eta 0:00:01\n",
      "   ---------------------------------------- 11.0/11.0 MB 12.6 MB/s eta 0:00:00\n",
      "Downloading joblib-1.4.2-py3-none-any.whl (301 kB)\n",
      "   ---------------------------------------- 0.0/301.8 kB ? eta -:--:--\n",
      "   ---------------------------------------- 301.8/301.8 kB 9.1 MB/s eta 0:00:00\n",
      "Downloading threadpoolctl-3.5.0-py3-none-any.whl (18 kB)\n",
      "Installing collected packages: threadpoolctl, joblib, scikit-learn\n",
      "Successfully installed joblib-1.4.2 scikit-learn-1.5.2 threadpoolctl-3.5.0\n"
     ]
    },
    {
     "name": "stderr",
     "output_type": "stream",
     "text": [
      "\n",
      "[notice] A new release of pip is available: 24.0 -> 24.3\n",
      "[notice] To update, run: python.exe -m pip install --upgrade pip\n"
     ]
    }
   ],
   "source": [
    "!pip install scikit-learn\n"
   ]
  },
  {
   "cell_type": "code",
   "execution_count": 10,
   "metadata": {},
   "outputs": [
    {
     "name": "stdout",
     "output_type": "stream",
     "text": [
      "Mean Squared Error: 72900.0\n"
     ]
    }
   ],
   "source": [
    "from sklearn.model_selection import train_test_split\n",
    "from sklearn.linear_model import LinearRegression\n",
    "from sklearn.metrics import mean_squared_error\n",
    "\n",
    "# Define features and target\n",
    "X = df[['ticket_price']]\n",
    "y = df['tickets_sold']\n",
    "\n",
    "# Split data into training and test sets\n",
    "X_train, X_test, y_train, y_test = train_test_split(X, y, test_size=0.2, random_state=42)\n",
    "\n",
    "# Train model\n",
    "model = LinearRegression()\n",
    "model.fit(X_train, y_train)\n",
    "\n",
    "# Make predictions and evaluate\n",
    "y_pred = model.predict(X_test)\n",
    "mse = mean_squared_error(y_test, y_pred)\n",
    "print(f'Mean Squared Error: {mse}')\n"
   ]
  },
  {
   "cell_type": "markdown",
   "metadata": {},
   "source": [
    "Step 5: Closing the Connection\n",
    "When you’re done, don’t forget to close the connection to the database:"
   ]
  },
  {
   "cell_type": "code",
   "execution_count": 11,
   "metadata": {},
   "outputs": [],
   "source": [
    "conn.close()\n"
   ]
  },
  {
   "cell_type": "markdown",
   "metadata": {},
   "source": [
    "**Summary of the Workflow**\n",
    "\n",
    "Establish a connection to SQL Server using pyodbc.\n",
    "\n",
    "Load data into a DataFrame with pd.read_sql().\n",
    "\n",
    "Analyze and visualize the data using Pandas and Matplotlib/Seaborn.\n",
    "\n",
    "Optionally, build predictive models using Scikit-Learn.\n",
    "\n",
    "Close the connection after you’re done.\n",
    "\n",
    "These steps will allow you to connect to SQL Server, query data, and analyze it in Python, covering many essential tasks you might need for a Data Analyst role at Reps & Co. Let me know if you need more details on any part!"
   ]
  }
 ],
 "metadata": {
  "kernelspec": {
   "display_name": "Python 3",
   "language": "python",
   "name": "python3"
  },
  "language_info": {
   "codemirror_mode": {
    "name": "ipython",
    "version": 3
   },
   "file_extension": ".py",
   "mimetype": "text/x-python",
   "name": "python",
   "nbconvert_exporter": "python",
   "pygments_lexer": "ipython3",
   "version": "3.12.4"
  }
 },
 "nbformat": 4,
 "nbformat_minor": 2
}
