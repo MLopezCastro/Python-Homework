{
 "cells": [
  {
   "cell_type": "markdown",
   "metadata": {},
   "source": [
    "### Analisis de rendimiento - Fútbol Femenino"
   ]
  },
  {
   "cell_type": "markdown",
   "metadata": {},
   "source": [
    "El equipo de fútbol femenino \"Estrellas FC\" quiere evaluar el rendimiento de sus jugadoras a lo largo de la última temporada para planificar entrenamientos, formaciones y estrategias para los próximos partidos. Como parte del equipo de análisis de datos del club, tu tarea es analizar el conjunto de datos de las asistencias utilizando Python y Numpy.\n",
    "\n",
    "Objetivos:\n",
    "\n",
    "- Analizar la contribución de cada jugadora al equipo.\n",
    "- Identificar las jugadoras con mejor y peor rendimiento.\n",
    "- Evaluar la consistencia del rendimiento de las jugadoras a lo largo de la temporada.\n",
    "- Desarrollar recomendaciones para el entrenamiento y la formación basadas en los resultados."
   ]
  },
  {
   "cell_type": "code",
   "execution_count": 1,
   "metadata": {},
   "outputs": [],
   "source": [
    "# Importa las librerías necesaria para el desarrollo de nuestro ejercicio.\n",
    "\n",
    "import numpy as np"
   ]
  },
  {
   "cell_type": "code",
   "execution_count": 3,
   "metadata": {},
   "outputs": [
    {
     "name": "stdout",
     "output_type": "stream",
     "text": [
      "[[9 7 0 5 4 5 5 8 3 2 2]\n",
      " [9 2 1 7 2 4 2 7 6 2 9]\n",
      " [1 5 3 2 2 0 2 4 3 9 1]\n",
      " [9 3 4 3 7 9 3 3 9 7 1]\n",
      " [5 4 3 0 4 0 7 6 1 5 6]\n",
      " [7 8 4 8 3 2 3 2 4 7 7]\n",
      " [6 8 1 9 1 0 0 7 3 3 1]\n",
      " [7 9 3 9 9 9 6 8 2 1 6]\n",
      " [8 6 7 4 9 8 4 1 7 8 4]\n",
      " [8 2 3 8 1 9 7 1 0 9 2]\n",
      " [2 6 0 6 4 7 0 3 5 2 1]\n",
      " [0 5 4 7 6 4 1 6 4 9 4]\n",
      " [2 5 2 8 5 8 1 9 0 3 2]\n",
      " [0 7 3 4 9 6 4 9 2 1 5]\n",
      " [4 7 3 5 1 5 7 4 3 6 6]\n",
      " [1 0 1 9 5 3 7 4 5 7 7]\n",
      " [6 0 9 3 9 8 9 0 9 3 5]\n",
      " [9 5 0 8 1 2 7 0 3 9 2]\n",
      " [8 8 9 2 4 6 7 8 8 9 3]\n",
      " [5 5 6 8 7 4 1 7 3 0 0]\n",
      " [0 4 3 4 6 2 1 5 2 5 6]\n",
      " [0 3 7 2 7 8 2 9 1 0 9]\n",
      " [0 9 0 0 1 3 8 5 3 5 7]\n",
      " [0 3 4 3 7 4 4 5 9 3 7]\n",
      " [1 8 8 8 6 2 5 9 0 6 2]\n",
      " [4 3 1 7 7 3 9 4 9 9 1]\n",
      " [3 1 8 0 7 4 0 5 7 7 7]\n",
      " [3 3 1 8 3 0 1 6 7 8 1]\n",
      " [3 8 2 5 1 0 7 5 6 6 0]\n",
      " [9 5 0 2 7 5 5 7 1 5 7]]\n"
     ]
    }
   ],
   "source": [
    "# Crea un array bidimensional 'asistencias' para las 11 jugadoras titulares a lo largo de 30 partidos.\n",
    "\n",
    "rendimiento = np.random.randint(0, 10, size=(30, 11))\n",
    "\n",
    "print(rendimiento)"
   ]
  },
  {
   "cell_type": "code",
   "execution_count": 4,
   "metadata": {},
   "outputs": [
    {
     "name": "stdout",
     "output_type": "stream",
     "text": [
      "[129 149 100 154 145 130 125 157 125 156 121]\n"
     ]
    }
   ],
   "source": [
    "# Calcula el total de asistencias por jugadora a lo largo de la temporada.\n",
    "\n",
    "total_asistencias = rendimiento.sum(axis=0)\n",
    "\n",
    "print(total_asistencias)"
   ]
  },
  {
   "cell_type": "code",
   "execution_count": 8,
   "metadata": {},
   "outputs": [
    {
     "name": "stdout",
     "output_type": "stream",
     "text": [
      "9\n",
      "11\n"
     ]
    }
   ],
   "source": [
    "# Corrige los datos en el partido número 20, aumenta la cantidad de asistencias de la jugadora 5 en 2.\n",
    "\n",
    "print(rendimiento[19, 4])\n",
    "\n",
    "rendimiento[19, 4] += 2\n",
    "\n",
    "print(rendimiento[19, 4])"
   ]
  },
  {
   "cell_type": "code",
   "execution_count": 9,
   "metadata": {},
   "outputs": [
    {
     "name": "stdout",
     "output_type": "stream",
     "text": [
      "[4.3        4.96666667 3.33333333 5.13333333 4.96666667 4.33333333\n",
      " 4.16666667 5.23333333 4.16666667 5.2        4.03333333]\n"
     ]
    }
   ],
   "source": [
    "# Calcula el promedio de asistencia por jugadora a lo largo de la temporada.\n",
    "\n",
    "prom_asistencias = rendimiento.mean(axis=0)\n",
    "\n",
    "print(prom_asistencias)"
   ]
  },
  {
   "cell_type": "code",
   "execution_count": 10,
   "metadata": {},
   "outputs": [
    {
     "name": "stdout",
     "output_type": "stream",
     "text": [
      "[[0 4 3 4 6 2 1 5 2 5 6]\n",
      " [0 3 7 2 7 8 2 9 1 0 9]\n",
      " [0 9 0 0 1 3 8 5 3 5 7]\n",
      " [0 3 4 3 7 4 4 5 9 3 7]\n",
      " [1 8 8 8 6 2 5 9 0 6 2]\n",
      " [4 3 1 7 7 3 9 4 9 9 1]\n",
      " [3 1 8 0 7 4 0 5 7 7 7]\n",
      " [3 3 1 8 3 0 1 6 7 8 1]\n",
      " [3 8 2 5 1 0 7 5 6 6 0]\n",
      " [9 5 0 2 7 5 5 7 1 5 7]]\n"
     ]
    }
   ],
   "source": [
    "# Selecciona y muestra las asistencias de las jugadoras en el final de la temporada (los últimos 10 partidos).\n",
    "\n",
    "ultimo_rendimiento = rendimiento[-10:, :]\n",
    "\n",
    "print(ultimo_rendimiento)"
   ]
  },
  {
   "cell_type": "code",
   "execution_count": 11,
   "metadata": {},
   "outputs": [
    {
     "name": "stdout",
     "output_type": "stream",
     "text": [
      "[ 60  95  71  99 107  84  86 110  87 103  82]\n",
      "[23 47 34 39 52 31 42 60 45 54 47]\n"
     ]
    }
   ],
   "source": [
    "# Calcula las asistencias del final de la temporada y comparalo vs las asistencias del inicio. ¿Fue mejor?\n",
    "\n",
    "inicio_rendimiento = rendimiento[10:, :]\n",
    "\n",
    "asistencias_inicio = inicio_rendimiento.sum(axis=0)\n",
    "asistencias_final = ultimo_rendimiento.sum(axis=0)\n",
    "\n",
    "print(asistencias_inicio)\n",
    "print(asistencias_final)"
   ]
  },
  {
   "cell_type": "code",
   "execution_count": 12,
   "metadata": {},
   "outputs": [
    {
     "name": "stdout",
     "output_type": "stream",
     "text": [
      "El comienzo de temporada fue mejor al final.\n"
     ]
    }
   ],
   "source": [
    "total_asistencias_inicio=np.sum(asistencias_inicio)\n",
    "total_asistencias_final=np.sum(asistencias_final)\n",
    "\n",
    "if total_asistencias_inicio > total_asistencias_final:\n",
    "    print(\"El comienzo de temporada fue mejor al final.\")\n",
    "elif total_asistencias_inicio < total_asistencias_final:\n",
    "    print(\"El final de temporada fue mejor al inicio.\")\n",
    "else:\n",
    "    print(\"El nivel se rendimiento se mantuvo tanto al inicio como al final de la temporada.\")"
   ]
  },
  {
   "cell_type": "code",
   "execution_count": 13,
   "metadata": {},
   "outputs": [
    {
     "name": "stdout",
     "output_type": "stream",
     "text": [
      "[[ True  True False False False False False  True False False False]\n",
      " [ True False False  True False False False  True  True False  True]\n",
      " [False False False False False False False False False  True False]\n",
      " [ True False False False  True  True False False  True  True False]\n",
      " [False False False False False False  True  True False False  True]\n",
      " [ True  True False  True False False False False False  True  True]\n",
      " [ True  True False  True False False False  True False False False]\n",
      " [ True  True False  True  True  True  True  True False False  True]\n",
      " [ True  True  True False  True  True False False  True  True False]\n",
      " [ True False False  True False  True  True False False  True False]\n",
      " [False  True False  True False  True False False False False False]\n",
      " [False False False  True  True False False  True False  True False]\n",
      " [False False False  True False  True False  True False False False]\n",
      " [False  True False False  True  True False  True False False False]\n",
      " [False  True False False False False  True False False  True  True]\n",
      " [False False False  True False False  True False False  True  True]\n",
      " [ True False  True False  True  True  True False  True False False]\n",
      " [ True False False  True False False  True False False  True False]\n",
      " [ True  True  True False False  True  True  True  True  True False]\n",
      " [False False  True  True  True False False  True False False False]\n",
      " [False False False False  True False False False False False  True]\n",
      " [False False  True False  True  True False  True False False  True]\n",
      " [False  True False False False False  True False False False  True]\n",
      " [False False False False  True False False False  True False  True]\n",
      " [False  True  True  True  True False False  True False  True False]\n",
      " [False False False  True  True False  True False  True  True False]\n",
      " [False False  True False  True False False False  True  True  True]\n",
      " [False False False  True False False False  True  True  True False]\n",
      " [False  True False False False False  True False  True  True False]\n",
      " [ True False False False  True False False  True False False  True]]\n"
     ]
    }
   ],
   "source": [
    "# Crea una máscara que identificar partidos en los que cualquier jugadora superó las 5 asistencias.\n",
    "\n",
    "mascara_asistencias = rendimiento > 5\n",
    "\n",
    "print(mascara_asistencias)"
   ]
  },
  {
   "cell_type": "code",
   "execution_count": 14,
   "metadata": {},
   "outputs": [
    {
     "name": "stdout",
     "output_type": "stream",
     "text": [
      "[ 9  7  8  9  7  7  6  9  9  9  7  9  9  7  7  6  6  7  8  8  7  7  6  8\n",
      "  9  7  7  9  9  9  9  6  8  6  8  6  7  9  8  7  8  8  8  9  7  9  6  6\n",
      "  7  7  6  6  9  8  8  9  7  9  6  9  7  7  6  6  9  7  7  7  6  9  9  8\n",
      "  9  9  9  8  7  9  8  8  9  6  7  8  8  9  6  8 11  7  6  6  7  7  8  9\n",
      "  9  9  8  7  7  9  7  8  8  8  6  9  6  7  7  9  9  9  8  7  7  7  7  8\n",
      "  6  7  8  8  7  6  6  9  7  7  7]\n"
     ]
    }
   ],
   "source": [
    "# Filtra  el valor de esas asistencias en cada partido.\n",
    "\n",
    "partidos_importantes = rendimiento[mascara_asistencias]\n",
    "print(partidos_importantes)"
   ]
  },
  {
   "cell_type": "code",
   "execution_count": 16,
   "metadata": {},
   "outputs": [
    {
     "name": "stdout",
     "output_type": "stream",
     "text": [
      "[11.07666667  6.56555556  7.68888889  8.31555556  8.43222222  8.48888889\n",
      "  8.07222222  7.04555556  8.20555556  8.56        7.63222222]\n",
      "[3.32816266 2.56233401 2.77288458 2.8836705  2.90382889 2.91356978\n",
      " 2.84116564 2.65434654 2.86453409 2.92574777 2.76264768]\n"
     ]
    }
   ],
   "source": [
    "# Calcula la varianza y la desviación estándar de las asistencias por jugadora\n",
    "\n",
    "varianza_recuperaciones = np.var(rendimiento, axis=0)\n",
    "desviacion_std_recuperaciones = np.std(rendimiento, axis=0)\n",
    "\n",
    "print(varianza_recuperaciones)\n",
    "print(desviacion_std_recuperaciones)"
   ]
  }
 ],
 "metadata": {
  "kernelspec": {
   "display_name": "Python 3",
   "language": "python",
   "name": "python3"
  },
  "language_info": {
   "codemirror_mode": {
    "name": "ipython",
    "version": 3
   },
   "file_extension": ".py",
   "mimetype": "text/x-python",
   "name": "python",
   "nbconvert_exporter": "python",
   "pygments_lexer": "ipython3",
   "version": "3.10.7"
  }
 },
 "nbformat": 4,
 "nbformat_minor": 2
}
